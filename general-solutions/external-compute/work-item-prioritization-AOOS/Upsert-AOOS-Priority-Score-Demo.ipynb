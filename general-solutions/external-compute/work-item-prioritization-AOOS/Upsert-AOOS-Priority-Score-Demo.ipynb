{
 "cells": [
  {
   "cell_type": "markdown",
   "metadata": {},
   "source": [
    "# Upsert AOOS Priority Score Demo\n",
    "\n",
    "## Approaching Out of Stock (AOOS)\n",
    "\n",
    "* Priority scores of work items (inventories) in AOOS work queue are calculated and upserted to InfoHub\n",
    "* The function `AOOS_priority_score` is defined below - for understanding the business logic, refer to the accompanying Notebook **AOOS-Priority-Score.ipynb**\n",
    "\n",
    "## InfoHub\n",
    "\n",
    "* The InfoHub connection and queries are defined in the accompanying Notebook **InfoHub.ipynb**\n",
    "* Make sure that you have run the Kernel of the above Notebook"
   ]
  },
  {
   "cell_type": "code",
   "execution_count": null,
   "metadata": {},
   "outputs": [],
   "source": [
    "import json\n",
    "import sys\n",
    "import os\n",
    "import pandas as pd\n",
    "import time\n",
    "import numpy as np\n",
    "import datetime\n",
    "import copy\n",
    "import json"
   ]
  },
  {
   "cell_type": "markdown",
   "metadata": {},
   "source": [
    "### Import `InfoHubConnection` Class\n",
    "\n",
    "* Install `ipynb` package for the following import to work\n",
    "\n",
    "    `pip install ipynb`\n",
    "    \n",
    "* Make sure that the Kernel of Notebook **InfoHub.ipynb** has been run without errors"
   ]
  },
  {
   "cell_type": "code",
   "execution_count": null,
   "metadata": {},
   "outputs": [],
   "source": [
    "from ipynb.fs.full.InfoHub import InfoHubConnection"
   ]
  },
  {
   "cell_type": "markdown",
   "metadata": {},
   "source": [
    "### Priority Score Calculation\n",
    "\n",
    "* Priority score function for _Approaching Out of Stock_ work item\n",
    "* The business logic is explained in detail in the accompanying Notebook **AOOS-Priority-Score.ipynb**"
   ]
  },
  {
   "cell_type": "code",
   "execution_count": null,
   "metadata": {},
   "outputs": [],
   "source": [
    "def AOOS_priority_score(supply_plans, \n",
    "                        demand_plans,\n",
    "                        starting_inventory = 0,\n",
    "                        first_date = datetime.date(2021, 7, 31), \n",
    "                        last_date = datetime.date(2021, 8, 31), \n",
    "                        decay_weight = 3.0, \n",
    "                        inv_positive_threshold = 20, \n",
    "                        inv_negative_threshold = -100):\n",
    "    \n",
    "    horizon = (last_date - first_date).days + 1\n",
    "    # Define Inventory horizon and add starting inventory\n",
    "    inventory_horizon = np.zeros(horizon, dtype=int)\n",
    "    inventory_horizon = inventory_horizon + starting_inventory\n",
    "\n",
    "    # Add Supply plans\n",
    "    for i in range(len(supply_plans)):\n",
    "        supply_date = datetime.datetime.fromisoformat(supply_plans[i]['startDate'][:-1]).date()\n",
    "        qty = supply_plans[i]['quantity']\n",
    "        diff_days = (supply_date - first_date).days\n",
    "        inventory_horizon[diff_days:] = inventory_horizon[diff_days:] + qty\n",
    "\n",
    "    for i in range(len(demand_plans)):\n",
    "        demand_date = datetime.datetime.fromisoformat(demand_plans[i]['startDate'][:-1]).date()\n",
    "        qty = demand_plans[i]['quantity']\n",
    "        diff_days = (demand_date - first_date).days\n",
    "        inventory_horizon[diff_days:] = inventory_horizon[diff_days:] - qty\n",
    "\n",
    "    # Calculate weights\n",
    "    weights = np.exp(np.arange(decay_weight, 0, -(decay_weight/horizon)))/np.exp(decay_weight)\n",
    "\n",
    "    # Calculate penalty\n",
    "    inventory_below_threshold = inventory_horizon - inv_positive_threshold\n",
    "    penalties = np.zeros(horizon, dtype=int)\n",
    "    neg_inv_mask = inventory_below_threshold < 0\n",
    "    penalties[neg_inv_mask] = inventory_below_threshold[neg_inv_mask] \n",
    "\n",
    "    neg_threshold_mask = penalties < inv_negative_threshold\n",
    "    penalties[neg_threshold_mask] = inv_negative_threshold\n",
    "\n",
    "    total_penalty = np.sum(weights*-penalties)\n",
    "    max_penalty = np.sum(weights*-inv_negative_threshold)\n",
    "    priority_score = int(np.rint((total_penalty/max_penalty)*100))\n",
    "\n",
    "    return priority_score\n"
   ]
  },
  {
   "cell_type": "markdown",
   "metadata": {},
   "source": [
    "### InfoHub Connection Config\n",
    "\n",
    "* Load your InfoHub connection parameters from `credentials.json` file\n",
    "* `tenantId` is not required for establishing the connection, but is required in the GraphQL queries"
   ]
  },
  {
   "cell_type": "code",
   "execution_count": null,
   "metadata": {},
   "outputs": [],
   "source": [
    "with open(\"credentials.json\") as config_file:\n",
    "    config = json.load(config_file)"
   ]
  },
  {
   "cell_type": "code",
   "execution_count": null,
   "metadata": {},
   "outputs": [],
   "source": [
    "url = config['url']\n",
    "headers  = config['headers']\n",
    "tenantId = config['tenantId']\n",
    "infohub = InfoHubConnection(url=url, tenantId=tenantId, headers=headers)"
   ]
  },
  {
   "cell_type": "markdown",
   "metadata": {},
   "source": [
    "### Priority Score Config\n",
    "\n",
    "* `timestamp`: Timestamp is needed in `upsert` operation, in ISO format.\n",
    "    * In production, use the current system timestamp.\n",
    "* `maxDate`: Active supply and demand plans till this date are used for priority score calculation\n",
    "    * For more details, check the accompanying Notebook **AOOS-Priority-Score.ipynb**"
   ]
  },
  {
   "cell_type": "code",
   "execution_count": null,
   "metadata": {},
   "outputs": [],
   "source": [
    "timestamp = \"2021-08-03T10:37:07+0800\"\n",
    "maxDate = \"2021-08-31 00:00:00\""
   ]
  },
  {
   "cell_type": "markdown",
   "metadata": {},
   "source": [
    "### Work Queue List\n",
    "\n",
    "* Our goal is to evaluate / re-calculate the priority score of work items in the AOOS work queue\n",
    "* We need the AOOS work queue object ID to get the work items that are in progress\n",
    "* To get the AOOS work queue object ID, we use the following query to get the list of work queues."
   ]
  },
  {
   "cell_type": "code",
   "execution_count": null,
   "metadata": {},
   "outputs": [],
   "source": [
    "workqueues = infohub.get_work_queues()\n",
    "for i in range(len(workqueues)):\n",
    "    print('WorkQueue: ', workqueues[i]['object']['name'])\n",
    "    print('Id: ', workqueues[i]['object']['id'])\n",
    "    print(\"--------------------------------------------------------------------------------\")"
   ]
  },
  {
   "cell_type": "markdown",
   "metadata": {},
   "source": [
    "### Choose `workQueueId`\n",
    "\n",
    "* Choose the workQueueId of _Inventory approaching out of stock prioritized_"
   ]
  },
  {
   "cell_type": "code",
   "execution_count": null,
   "metadata": {
    "scrolled": true
   },
   "outputs": [],
   "source": [
    "workQueueId = \"516dc12d-eff6-4c51-9222-7eca88a31c5e\""
   ]
  },
  {
   "cell_type": "markdown",
   "metadata": {},
   "source": [
    "### Collect Work Items\n",
    "\n",
    "* Given the work queue ID, collect all the work items"
   ]
  },
  {
   "cell_type": "code",
   "execution_count": null,
   "metadata": {},
   "outputs": [],
   "source": [
    "work_items = []\n",
    "print(\"Querying work items in progress...\")\n",
    "work_items_list = infohub.get_workitems_in_progress(workQueueId=workQueueId)\n",
    "print(\"\\tNumber of WorkItems: {}\".format(len(work_items_list)))\n",
    "for i in range(len(work_items_list)):\n",
    "    wi = {\"workItemId\": work_items_list[i]['object'][\"id\"],\n",
    "          \"priority\": work_items_list[i]['object'][\"priority\"],\n",
    "          \"inventoryId\": work_items_list[i]['object'][\"businessObject\"][\"id\"],\n",
    "          \"productId\": work_items_list[i]['object'][\"businessObject\"][\"product\"][\"id\"],\n",
    "          \"partNumber\": work_items_list[i]['object'][\"businessObject\"][\"product\"][\"partNumber\"],\n",
    "          \"locationId\": work_items_list[i]['object'][\"businessObject\"][\"location\"][\"id\"],\n",
    "          \"locationIdentifier\": work_items_list[i]['object'][\"businessObject\"][\"location\"][\"locationIdentifier\"],\n",
    "          \"starting_inventory\": work_items_list[i]['object'][\"businessObject\"][\"quantity\"]\n",
    "    }\n",
    "    work_items.append(wi)\n",
    "    print(\"({}): Object-Id: {};\".format(i, wi[\"workItemId\"]))\n",
    "    print(\"\\tPart-Number: {}; Location-Id: {}; Priority-Score: {}\".format(wi[\"partNumber\"], wi[\"locationIdentifier\"], wi[\"priority\"]))\n",
    "print('Done.')"
   ]
  },
  {
   "cell_type": "markdown",
   "metadata": {},
   "source": [
    "### Demo: Change in Priority Score\n",
    "* The priority scores are based on current supply plans and demand plans for next 30 days (`maxDate`)\n",
    "* In the event of a change in supply/demand plan(s), the priority score has to change to reflect the severity of going _out of stock_\n",
    "* We can test this by simulating a change in supply/demand plan (or both) and see how the priority score changes\n",
    "* Steps:\n",
    "    * Step 1: Choose an WorkItem\n",
    "    * Step 2: Get the supply and demand plans\n",
    "    * Step 3: Upsert a plan with modified quantity and/or date\n",
    "        * You can repeat this for multiple plans (supply or demand or both)\n",
    "    * Step 4: Calculate the new priority score and compare"
   ]
  },
  {
   "cell_type": "markdown",
   "metadata": {},
   "source": [
    "#### Step 1: Choose an WorkItem\n",
    "* Choose an WorkItem from the above list (by its index)"
   ]
  },
  {
   "cell_type": "code",
   "execution_count": null,
   "metadata": {},
   "outputs": [],
   "source": [
    "k = 3\n",
    "partNumber = work_items[k][\"partNumber\"]\n",
    "locationIdentifier = work_items[k][\"locationIdentifier\"]\n",
    "priority = work_items[k][\"priority\"]\n",
    "workItemId = work_items[k][\"workItemId\"]\n",
    "starting_inventory = work_items[k][\"starting_inventory\"]\n",
    "print(\"Selected WorkItem: Object ID: {}\".format(workItemId))\n",
    "print(\"\\t({}): Part-Number: {}; Location-Id: {}; Priority-Score: {}\".format(k, partNumber, locationIdentifier, priority))"
   ]
  },
  {
   "cell_type": "markdown",
   "metadata": {},
   "source": [
    "#### Step 2: Get Supply and Demand Plans\n",
    "* WorkItem can be identified with its unique object ID or by its unique `partNumber` and `locationIdentifier` combination\n",
    "* We have constructed all queries with `partNumber` and `locationIdentifier` combination for easy readability\n",
    "    * Good practice is to use object ID as it is immune to possible changes in schema\n",
    "* To calculate the priority score we need both the supply and demand plans"
   ]
  },
  {
   "cell_type": "code",
   "execution_count": null,
   "metadata": {},
   "outputs": [],
   "source": [
    "# Get supply plans\n",
    "supply_plans = []\n",
    "print(\"Querying supply plans ...\")\n",
    "plan_list = infohub.get_supplyplans(partNumber=partNumber, locationIdentifier=locationIdentifier, maxDate=maxDate)\n",
    "print(\"\\tNumber of Supply Plans: {}\".format(len(plan_list)))\n",
    "for i in range(len(plan_list)):\n",
    "    plan = {\"startDate\": plan_list[i]['object'][\"startDate\"],\n",
    "            \"quantity\": plan_list[i]['object'][\"quantity\"],\n",
    "            \"id\": plan_list[i]['object'][\"id\"]\n",
    "           }\n",
    "    supply_plans.append(plan)\n",
    "\n",
    "# Get demand plans\n",
    "demand_plans =[]\n",
    "print(\"Querying demand plans ...\")\n",
    "plan_list = infohub.get_demandplans(partNumber=partNumber, locationIdentifier=locationIdentifier, maxDate=maxDate)\n",
    "print(\"\\tNumber of Demand Plans: {}\".format(len(plan_list)))\n",
    "for i in range(len(plan_list)):\n",
    "    plan = {\"startDate\": plan_list[i]['object'][\"startDate\"],\n",
    "            \"quantity\": plan_list[i]['object'][\"quantity\"],\n",
    "            \"id\": plan_list[i]['object'][\"id\"]\n",
    "           }\n",
    "    demand_plans.append(plan)\n",
    "print(\"Done.\")"
   ]
  },
  {
   "cell_type": "code",
   "execution_count": null,
   "metadata": {},
   "outputs": [],
   "source": [
    "# Print Supply and Demand Plans\n",
    "print(\"::Supply Plans::\")\n",
    "for i in range(len(supply_plans)):\n",
    "    print(\"\\t({}): Object ID: {}\".format(i, supply_plans[i][\"id\"]))\n",
    "    print(\"\\t\\tStart Date: {}; Quantity: {};\".format(supply_plans[i][\"startDate\"], supply_plans[i][\"quantity\"]))\n",
    "print(\"::Demand Plans::\")\n",
    "for i in range(len(demand_plans)):\n",
    "    print(\"\\t({}): Object ID: {}\".format(i, demand_plans[i][\"id\"]))\n",
    "    print(\"\\t\\tStart Date: {}; Quantity: {};\".format(demand_plans[i][\"startDate\"], demand_plans[i][\"quantity\"]))"
   ]
  },
  {
   "cell_type": "markdown",
   "metadata": {},
   "source": [
    "#### Step 3: Upsert a plan with modified quantity and/or date\n",
    "\n",
    "* Choose a supply/demand plan and change its quantity and/or date\n",
    "* Upsert the modified plan\n",
    "* You can repeat this for multiple plans (supply or demand or both)\n",
    "    * Steps 3a and 3b"
   ]
  },
  {
   "cell_type": "code",
   "execution_count": null,
   "metadata": {},
   "outputs": [],
   "source": [
    "# To demonstrate the change in the priority\n",
    "changed_plans = []\n",
    "new_supply_plans = copy.deepcopy(supply_plans)\n",
    "new_demand_plans = copy.deepcopy(demand_plans)"
   ]
  },
  {
   "cell_type": "markdown",
   "metadata": {},
   "source": [
    "**Step 3a: _Modify Supply Plan_**"
   ]
  },
  {
   "cell_type": "code",
   "execution_count": null,
   "metadata": {},
   "outputs": [],
   "source": [
    "# Choose a supply plan to modify by its index\n",
    "k = 0\n",
    "id = supply_plans[k][\"id\"]\n",
    "startDate = supply_plans[k][\"startDate\"]\n",
    "quantity = supply_plans[k][\"quantity\"]\n",
    "print(\"Selected Supply Plan ({}): Object ID: {}\".format(k, id))\n",
    "print(\"\\tStart Date: {}; Quantity: {};\".format(startDate, quantity))\n",
    "new_startDate = startDate\n",
    "new_quantity = quantity"
   ]
  },
  {
   "cell_type": "code",
   "execution_count": null,
   "metadata": {},
   "outputs": [],
   "source": [
    "# Modify quantity and/or date (Comment out to keep it the same)\n",
    "# new_startDate = \"2021-08-04T00:00:00.000Z\"\n",
    "new_quantity = 350.0"
   ]
  },
  {
   "cell_type": "code",
   "execution_count": null,
   "metadata": {},
   "outputs": [],
   "source": [
    "# Upsert the modified supply plan\n",
    "print(\"Upserting modified supply plan..\")\n",
    "upsert_result = infohub.upsert_supplyplan(supplyPlanID=id, quantity=new_quantity, startDate=new_startDate, timestamp=timestamp)\n",
    "print(upsert_result)"
   ]
  },
  {
   "cell_type": "code",
   "execution_count": null,
   "metadata": {},
   "outputs": [],
   "source": [
    "# Update the new values in the local list\n",
    "new_supply_plans[k][\"quantity\"] = new_quantity\n",
    "new_supply_plans[k][\"startDate\"] = new_startDate\n",
    "changed_plans.append({\"planType\": \"supply\",\n",
    "                      \"quantity\": quantity,\n",
    "                      \"startDate\": startDate,\n",
    "                      \"new_quantity\": new_quantity,\n",
    "                      \"new_startDate\": new_startDate})"
   ]
  },
  {
   "cell_type": "markdown",
   "metadata": {},
   "source": [
    "**Step 3b: _Modify Demand Plan_**"
   ]
  },
  {
   "cell_type": "code",
   "execution_count": null,
   "metadata": {},
   "outputs": [],
   "source": [
    "# Choose a demand plan to modify by its index\n",
    "k = 0\n",
    "id = demand_plans[k][\"id\"]\n",
    "startDate = demand_plans[k][\"startDate\"]\n",
    "quantity = demand_plans[k][\"quantity\"]\n",
    "print(\"Selected Demand Plan ({}): Object ID: {}\".format(k, id))\n",
    "print(\"\\tStart Date: {}; Quantity: {};\".format(startDate, quantity))\n",
    "new_startDate = startDate\n",
    "new_quantity = quantity"
   ]
  },
  {
   "cell_type": "code",
   "execution_count": null,
   "metadata": {},
   "outputs": [],
   "source": [
    "# Modify quantity and/or date (Comment out to keep it the same)\n",
    "#new_startDate = \"2021-08-02T00:00:00.000Z\"\n",
    "new_quantity = 35.0"
   ]
  },
  {
   "cell_type": "code",
   "execution_count": null,
   "metadata": {},
   "outputs": [],
   "source": [
    "# Upsert the modified demand plan\n",
    "print(\"Upserting modified demand plan..\")\n",
    "upsert_result = infohub.upsert_demandplan(demandPlanID=id, quantity=new_quantity, startDate=new_startDate, timestamp=timestamp)\n",
    "print(upsert_result)"
   ]
  },
  {
   "cell_type": "code",
   "execution_count": null,
   "metadata": {},
   "outputs": [],
   "source": [
    "# Update the new values in the local list\n",
    "new_demand_plans[k][\"quantity\"] = new_quantity\n",
    "new_demand_plans[k][\"startDate\"] = new_startDate\n",
    "changed_plans.append({\"planType\": \"demand\",\n",
    "                      \"quantity\": quantity,\n",
    "                      \"startDate\": startDate,\n",
    "                      \"new_quantity\": new_quantity,\n",
    "                      \"new_startDate\": new_startDate})"
   ]
  },
  {
   "cell_type": "markdown",
   "metadata": {},
   "source": [
    "#### Step 4: Calculate Priority Score"
   ]
  },
  {
   "cell_type": "code",
   "execution_count": null,
   "metadata": {},
   "outputs": [],
   "source": [
    "new_priority = AOOS_priority_score(supply_plans=new_supply_plans, demand_plans=new_demand_plans, starting_inventory=starting_inventory, inv_positive_threshold=100, inv_negative_threshold=-300)\n",
    "print(\"Updated priority score: {}\".format(new_priority))\n"
   ]
  },
  {
   "cell_type": "code",
   "execution_count": null,
   "metadata": {},
   "outputs": [],
   "source": [
    "# Results\n",
    "print(\"Work Item / Inventory:\")\n",
    "print(\"----------------------\")\n",
    "print(\"\\tPart Number: {}; Location: {}\".format(partNumber, locationIdentifier))\n",
    "print(\"----------------------\")\n",
    "print(\"Changed Plans:\")\n",
    "for i in range(len(changed_plans)):\n",
    "    print(\"\\tPlan Type: {}\".format(changed_plans[i][\"planType\"]))\n",
    "    if changed_plans[i][\"quantity\"] != changed_plans[i][\"new_quantity\"]:\n",
    "        print(\"\\t\\t Quantity change: {} -> {}\".format(changed_plans[i][\"quantity\"], changed_plans[i][\"new_quantity\"]))\n",
    "    if changed_plans[i][\"startDate\"] != changed_plans[i][\"new_startDate\"]:\n",
    "        print(\"\\t\\t Start date change: {} -> {}\".format(changed_plans[i][\"startDate\"], changed_plans[i][\"new_startDate\"]))\n",
    "print(\"---------------------------------------\")\n",
    "print(\"Priority change: {} -> {}\".format(priority, new_priority))\n",
    "print(\"---------------------------------------\")"
   ]
  },
  {
   "cell_type": "code",
   "execution_count": null,
   "metadata": {},
   "outputs": [],
   "source": [
    "# Upsert the new priority score\n",
    "upsert_result = infohub.upsert_workitem_priority(workItemId=workItemId, priority=new_priority, timestamp=timestamp)\n",
    "print(upsert_result)"
   ]
  },
  {
   "cell_type": "code",
   "execution_count": null,
   "metadata": {},
   "outputs": [],
   "source": []
  }
 ],
 "metadata": {
  "kernelspec": {
   "display_name": "Python 3",
   "language": "python",
   "name": "python3"
  },
  "language_info": {
   "codemirror_mode": {
    "name": "ipython",
    "version": 3
   },
   "file_extension": ".py",
   "mimetype": "text/x-python",
   "name": "python",
   "nbconvert_exporter": "python",
   "pygments_lexer": "ipython3",
   "version": "3.8.3"
  }
 },
 "nbformat": 4,
 "nbformat_minor": 5
}
