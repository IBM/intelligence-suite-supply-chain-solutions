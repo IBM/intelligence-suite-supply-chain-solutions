{
 "cells": [
  {
   "cell_type": "markdown",
   "metadata": {},
   "source": [
    "# Upsert AOOS Priority Score\n",
    "\n",
    "## Approaching Out of Stock (AOOS)\n",
    "\n",
    "* Priority scores of work items (inventories) in AOOS work queue are calculated and upserted to InfoHub\n",
    "* The function `AOOS_priority_score` is defined below - for understanding the business logic, refer to the accompanying Notebook **AOOS-Priority-Score.ipynb**\n",
    "\n",
    "## InfoHub\n",
    "\n",
    "* The InfoHub connection and queries are defined in the accompanying Notebook **InfoHub.ipynb**\n",
    "* Make sure that you have run the Kernel of the above Notebook"
   ]
  },
  {
   "cell_type": "code",
   "execution_count": null,
   "metadata": {},
   "outputs": [],
   "source": [
    "import json\n",
    "import sys\n",
    "import os\n",
    "import pandas as pd\n",
    "import time\n",
    "import numpy as np\n",
    "import datetime\n",
    "import json"
   ]
  },
  {
   "cell_type": "markdown",
   "metadata": {},
   "source": [
    "### Import `InfoHubConnection` Class\n",
    "\n",
    "* Install `ipynb` package for the following import to work\n",
    "\n",
    "    `pip install ipynb`\n",
    "    \n",
    "* Make sure that the Kernel of Notebook **InfoHub.ipynb** has been run without errors"
   ]
  },
  {
   "cell_type": "code",
   "execution_count": null,
   "metadata": {},
   "outputs": [],
   "source": [
    "from ipynb.fs.full.InfoHub import InfoHubConnection"
   ]
  },
  {
   "cell_type": "markdown",
   "metadata": {},
   "source": [
    "### Priority Score Calculation\n",
    "\n",
    "* Priority score function for _Approaching Out of Stock_ work item\n",
    "* The business logic is explained in detail in the accompanying Notebook **AOOS-Priority-Score.ipynb**"
   ]
  },
  {
   "cell_type": "code",
   "execution_count": null,
   "metadata": {},
   "outputs": [],
   "source": [
    "def AOOS_priority_score(supply_plans, \n",
    "                        demand_plans,\n",
    "                        starting_inventory = 0,\n",
    "                        first_date = datetime.date(2021, 7, 31), \n",
    "                        last_date = datetime.date(2021, 8, 31), \n",
    "                        decay_weight = 3.0, \n",
    "                        inv_positive_threshold = 20, \n",
    "                        inv_negative_threshold = -100):\n",
    "    \n",
    "    horizon = (last_date - first_date).days + 1\n",
    "    # Define Inventory horizon and add starting inventory\n",
    "    inventory_horizon = np.zeros(horizon, dtype=int)\n",
    "    inventory_horizon = inventory_horizon + starting_inventory\n",
    "\n",
    "    # Add Supply plans\n",
    "    for i in range(len(supply_plans)):\n",
    "        supply_date = datetime.datetime.fromisoformat(supply_plans[i]['startDate'][:-1]).date()\n",
    "        qty = supply_plans[i]['quantity']\n",
    "        diff_days = (supply_date - first_date).days\n",
    "        inventory_horizon[diff_days:] = inventory_horizon[diff_days:] + qty\n",
    "\n",
    "    for i in range(len(demand_plans)):\n",
    "        demand_date = datetime.datetime.fromisoformat(demand_plans[i]['startDate'][:-1]).date()\n",
    "        qty = demand_plans[i]['quantity']\n",
    "        diff_days = (demand_date - first_date).days\n",
    "        inventory_horizon[diff_days:] = inventory_horizon[diff_days:] - qty\n",
    "\n",
    "    # Calculate weights\n",
    "    weights = np.exp(np.arange(decay_weight, 0, -(decay_weight/horizon)))/np.exp(decay_weight)\n",
    "\n",
    "    # Calculate penalty\n",
    "    inventory_below_threshold = inventory_horizon - inv_positive_threshold\n",
    "    penalties = np.zeros(horizon, dtype=int)\n",
    "    neg_inv_mask = inventory_below_threshold < 0\n",
    "    penalties[neg_inv_mask] = inventory_below_threshold[neg_inv_mask] \n",
    "\n",
    "    neg_threshold_mask = penalties < inv_negative_threshold\n",
    "    penalties[neg_threshold_mask] = inv_negative_threshold\n",
    "\n",
    "    total_penalty = np.sum(weights*-penalties)\n",
    "    max_penalty = np.sum(weights*-inv_negative_threshold)\n",
    "    priority_score = int(np.rint((total_penalty/max_penalty)*100))\n",
    "\n",
    "    return priority_score\n"
   ]
  },
  {
   "cell_type": "markdown",
   "metadata": {},
   "source": [
    "### InfoHub Connection Config\n",
    "\n",
    "* Load your InfoHub connection parameters from `credentials.json` file\n",
    "* `tenantId` is not required for establishing the connection, but is required in the GraphQL queries"
   ]
  },
  {
   "cell_type": "code",
   "execution_count": null,
   "metadata": {},
   "outputs": [],
   "source": [
    "with open(\"credentials.json\") as config_file:\n",
    "    config = json.load(config_file)"
   ]
  },
  {
   "cell_type": "code",
   "execution_count": null,
   "metadata": {},
   "outputs": [],
   "source": [
    "url = config['url']\n",
    "headers  = config['headers']\n",
    "tenantId = config['tenantId']\n",
    "infohub = InfoHubConnection(url=url, tenantId=tenantId, headers=headers)"
   ]
  },
  {
   "cell_type": "markdown",
   "metadata": {},
   "source": [
    "### Priority Score Config\n",
    "\n",
    "* `timestamp`: Timestamp is needed in `upsert` operation, in ISO format.\n",
    "    * In production, use the current system timestamp.\n",
    "* `maxDate`: Active supply and demand plans till this date are used for priority score calculation\n",
    "    * For more details, check the accompanying Notebook **AOOS-Priority-Score.ipynb**"
   ]
  },
  {
   "cell_type": "code",
   "execution_count": null,
   "metadata": {},
   "outputs": [],
   "source": [
    "timestamp = \"2021-08-03T10:37:07+0800\"\n",
    "maxDate = \"2021-08-31 00:00:00\""
   ]
  },
  {
   "cell_type": "markdown",
   "metadata": {},
   "source": [
    "### Work Queue List\n",
    "\n",
    "* Our goal is to evaluate / re-calculate the priority score of work items in the AOOS work queue\n",
    "* We need the AOOS work queue object ID to get the work items that are in progress\n",
    "* To get the AOOS work queue object ID, we use the following query to get the list of work queues."
   ]
  },
  {
   "cell_type": "code",
   "execution_count": null,
   "metadata": {},
   "outputs": [],
   "source": [
    "workqueues = infohub.get_work_queues()\n",
    "for i in range(len(workqueues)):\n",
    "    print('WorkQueue: ', workqueues[i]['object']['name'])\n",
    "    print('Id: ', workqueues[i]['object']['id'])\n",
    "    print(\"--------------------------------------------------------------------------------\")"
   ]
  },
  {
   "cell_type": "markdown",
   "metadata": {},
   "source": [
    "### Choose `workQueueId`\n",
    "\n",
    "* Choose the workQueueId of _Inventory approaching out of stock prioritized_"
   ]
  },
  {
   "cell_type": "code",
   "execution_count": null,
   "metadata": {
    "scrolled": true
   },
   "outputs": [],
   "source": [
    "workQueueId = \"516dc12d-eff6-4c51-9222-7eca88a31c5e\""
   ]
  },
  {
   "cell_type": "markdown",
   "metadata": {},
   "source": [
    "### Collect Work Items\n",
    "\n",
    "* Given the work queue ID, collect all the work items"
   ]
  },
  {
   "cell_type": "code",
   "execution_count": null,
   "metadata": {},
   "outputs": [],
   "source": [
    "work_items = []\n",
    "print(\"Querying work items in progress...\")\n",
    "work_items_list = infohub.get_workitems_in_progress(workQueueId=workQueueId)\n",
    "print(\"\\tNumber of WorkItems: {}\".format(len(work_items_list)))\n",
    "for i in range(len(work_items_list)):\n",
    "    wi = {\"workItemId\": work_items_list[i]['object'][\"id\"],\n",
    "          \"priority\": work_items_list[i]['object'][\"priority\"],\n",
    "          \"inventoryId\": work_items_list[i]['object'][\"businessObject\"][\"id\"],\n",
    "          \"productId\": work_items_list[i]['object'][\"businessObject\"][\"product\"][\"id\"],\n",
    "          \"partNumber\": work_items_list[i]['object'][\"businessObject\"][\"product\"][\"partNumber\"],\n",
    "          \"locationId\": work_items_list[i]['object'][\"businessObject\"][\"location\"][\"id\"],\n",
    "          \"locationIdentifier\": work_items_list[i]['object'][\"businessObject\"][\"location\"][\"locationIdentifier\"],\n",
    "          \"starting_inventory\": work_items_list[i]['object'][\"businessObject\"][\"quantity\"]\n",
    "    }\n",
    "    work_items.append(wi)\n",
    "    print(\"({}): Object-Id: {};\".format(i, wi[\"workItemId\"]))\n",
    "    print(\"\\tPart-Number: {}; Location-Id: {}; Priority-Score: {}\".format(wi[\"partNumber\"], wi[\"locationIdentifier\"], wi[\"priority\"]))\n",
    "print('Done.')"
   ]
  },
  {
   "cell_type": "markdown",
   "metadata": {},
   "source": [
    "### Upsert Priority Score\n",
    "\n",
    "* Upsert the priority scores of each work item in 4 steps\n",
    "    * Alternatively, choose only the work items of interest to calculate and upsert the score\n",
    "\n",
    "**4 Steps**\n",
    "* Steps 1 & 2: Get Supply and Demand Plans \n",
    "    * The priority score requires list of supply plans and demand plans of the inventory (of the respective work item)\n",
    "    * We can query these plans using `inventoryId` or alternatively using `partNumber` and `locationIdentifier`\n",
    "    * We use `partNumber` and `locationIdentifier` for readability and debugging\n",
    "* Step 3: Calculate Priority Score\n",
    "    * Uses `AOOS_priority_score` function\n",
    "* Step 4: Upsert the new Priority Score\n",
    "    * Uses the collected field `workItemId` and the user defined parameter `timestamp`\n",
    "    * In production, predefined `timestamp` can be replaced with current time"
   ]
  },
  {
   "cell_type": "code",
   "execution_count": null,
   "metadata": {},
   "outputs": [],
   "source": [
    "for k in range(len(work_items)):\n",
    "    supply_plans = []\n",
    "    demand_plans =[]\n",
    "    partNumber = work_items[k][\"partNumber\"]\n",
    "    locationIdentifier = work_items[k][\"locationIdentifier\"]\n",
    "    starting_inventory = work_items[k][\"starting_inventory\"]\n",
    "    workItemId = work_items[k][\"workItemId\"]\n",
    "\n",
    "    print(\"PartNumber: {}; LocationIdentifier: {}; WorkItemID: {}\".format(partNumber, locationIdentifier, workItemId))\n",
    "\n",
    "    # Get supply plans\n",
    "    print(\"1. Querying supply plans ...\")\n",
    "    plan_list = infohub.get_supplyplans(partNumber=partNumber, locationIdentifier=locationIdentifier, maxDate=maxDate)\n",
    "    print(\"\\tNumber of Supply Plans: {}\".format(len(plan_list)))\n",
    "    for i in range(len(plan_list)):\n",
    "        plan = {\"startDate\": plan_list[i]['object'][\"startDate\"],\n",
    "                \"quantity\": plan_list[i]['object'][\"quantity\"]}\n",
    "        supply_plans.append(plan)\n",
    "\n",
    "    # Get demand plans\n",
    "    print(\"2. Querying demand plans ...\")\n",
    "    plan_list = infohub.get_demandplans(partNumber=partNumber, locationIdentifier=locationIdentifier, maxDate=maxDate)\n",
    "    print(\"\\tNumber of Demand Plans: {}\".format(len(plan_list)))\n",
    "    for i in range(len(plan_list)):\n",
    "        plan = {\"startDate\": plan_list[i]['object'][\"startDate\"],\n",
    "                \"quantity\": plan_list[i]['object'][\"quantity\"]}\n",
    "        demand_plans.append(plan)\n",
    "\n",
    "    print(\"3. Calculating priority score ...\")\n",
    "    priority_score = AOOS_priority_score(supply_plans=supply_plans, demand_plans=demand_plans, starting_inventory=starting_inventory, inv_positive_threshold=100, inv_negative_threshold=-300)\n",
    "    print(\"\\tPriority score: {}\".format(priority_score))\n",
    "\n",
    "    print(\"4. Upserting work item object ...\")\n",
    "    upsert_result = infohub.upsert_workitem_priority(workItemId=workItemId, priority=priority_score, timestamp=timestamp)\n",
    "    print(upsert_result)\n",
    "    print(\"----------\")"
   ]
  },
  {
   "cell_type": "code",
   "execution_count": null,
   "metadata": {},
   "outputs": [],
   "source": []
  }
 ],
 "metadata": {
  "kernelspec": {
   "display_name": "Python 3",
   "language": "python",
   "name": "python3"
  },
  "language_info": {
   "codemirror_mode": {
    "name": "ipython",
    "version": 3
   },
   "file_extension": ".py",
   "mimetype": "text/x-python",
   "name": "python",
   "nbconvert_exporter": "python",
   "pygments_lexer": "ipython3",
   "version": "3.8.3"
  }
 },
 "nbformat": 4,
 "nbformat_minor": 5
}
