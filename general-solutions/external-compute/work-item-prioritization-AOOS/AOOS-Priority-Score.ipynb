{
 "cells": [
  {
   "cell_type": "markdown",
   "metadata": {},
   "source": [
    "# Approaching Out of Stock (AOOS) Priority Score\n",
    "\n",
    "### For understanding / testing / modifying the business logic of priority score calculation\n",
    "\n",
    "* Does not connect to InfoHub for data - uses local CSV files\n",
    "\n",
    "## Business Logic\n",
    "\n",
    "* Work item in AOOS work queue is essentially an **inventory**, which is _approaching_ out of stock\n",
    "* The priority of a work item (inventory) can be estimated based on (_inventory_ - _threshold_)\n",
    "* We can extend the above logic to estimate how much will be the inventory in the near future (instead of current inventory)\n",
    "* This is achieved by taking into account supply plans and demand plans and calculating the inventory over an _inventory horizon_, say next 30 days\n",
    "* **Penalty** is a numerical value denoting the deviation of inventory from the desired threshold\n",
    "    * Related parameters: `inv_positive_threshold`, `inv_negative_threshold`\n",
    "* **Weight** is a numerical function defined over the horizon that captures the weightage of penalty\n",
    "    * Useful to capture varying weight like penalty for next few days carries more weight than the penalty for the 25th day\n",
    "    * Related parameter: `decay_weight`"
   ]
  },
  {
   "cell_type": "code",
   "execution_count": 1,
   "metadata": {},
   "outputs": [],
   "source": [
    "import pandas as pd\n",
    "import numpy as np\n",
    "import datetime\n",
    "import os\n",
    "import matplotlib.pyplot as plt"
   ]
  },
  {
   "cell_type": "markdown",
   "metadata": {},
   "source": [
    "## Config Parameters\n",
    "\n",
    "* Horizon of interest: \\[`first_date`, `last_date`\\]\n",
    "    * Current inventory is on the `first_date` \n",
    "    * For production, `first_date` would be today's date\n",
    "* `inv_positive_threshold`: (>= 0) Positive threshold, below which penalty is applicable\n",
    "    * Default value can be 0, indicating that only _out of stock_ is penalized\n",
    "    * If it is 10, then any value below 10 is also penalized - useful for penalizing _approaching out of stock_\n",
    "* `inv_negative_threshold`: (< 0) Maximum negative inventory for calculating penalty\n",
    "    * If it is -100, then any inventory < -100 is treated as -100\n",
    "    * This ensures a bound on the max penalty to restrict the score to be in range \\[0, 100\\]\n",
    "* `decay_weight`: \\[1.0, 2.0, ...\\] \n",
    "    * Exponential decay function captures the weightage of penalty over the horizon - near future carries more weight\n",
    "    * `decay_weight` defines the shape of the normalized weight function\n",
    "    * Default value is `3.0`, check below for shapes of different weights\n",
    "\n",
    "### Experiments\n",
    "\n",
    "* **Parameters**\n",
    "    * Change the parameter values and compare results to analyze and determine appropriate parameter values for an inventory (based on quantity, frequency of supply / demand plans, etc)\n",
    "* **Input Data**\n",
    "    * Supply and demand plan data are pre-loaded in the folder `data`\n",
    "    * Change the quantity and / or date in the CSV files to analyze / modify the business logic"
   ]
  },
  {
   "cell_type": "code",
   "execution_count": 2,
   "metadata": {},
   "outputs": [],
   "source": [
    "first_date = datetime.date(2021, 7, 31)\n",
    "last_date = datetime.date(2021, 8, 31)\n",
    "horizon = (last_date - first_date).days + 1\n",
    "decay_weight = 3.0\n",
    "inv_positive_threshold = 100\n",
    "inv_negative_threshold = -300\n",
    "horizon_days = np.arange(1, horizon+1, 1)"
   ]
  },
  {
   "cell_type": "code",
   "execution_count": 3,
   "metadata": {},
   "outputs": [],
   "source": [
    "# I/O Folders\n",
    "data_folder = \"data/\"\n",
    "figs_folder = \"figs/\""
   ]
  },
  {
   "cell_type": "markdown",
   "metadata": {},
   "source": [
    "### Inventory / Work Item\n",
    "\n",
    "* Inventory is uniquely identified by `partNumber` and `locationIdentifier`\n",
    "* Choose one of the following two inventories to experiment\n",
    "    * Associated input CSV files are in the `data` folder"
   ]
  },
  {
   "cell_type": "code",
   "execution_count": 4,
   "metadata": {},
   "outputs": [],
   "source": [
    "# Inventory / Work Item 1\n",
    "partNumber = \"CO-RD-R296\"\n",
    "locationIdentifier = \"LT-2\"\n",
    "starting_inventory = 80"
   ]
  },
  {
   "cell_type": "code",
   "execution_count": null,
   "metadata": {},
   "outputs": [],
   "source": [
    "# Inventory / Work Item 2\n",
    "# partNumber = \"CO-RD-S282\"\n",
    "# locationIdentifier = \"LT-2\"\n",
    "# starting_inventory = 40"
   ]
  },
  {
   "cell_type": "code",
   "execution_count": 5,
   "metadata": {},
   "outputs": [],
   "source": [
    "supply_file = \"-\".join([\"supply-plans\", partNumber, locationIdentifier])+\".csv\"\n",
    "demand_file = \"-\".join([\"demand-plans\", partNumber, locationIdentifier])+\".csv\""
   ]
  },
  {
   "cell_type": "markdown",
   "metadata": {},
   "source": [
    "## Input\n",
    "* Read `supply_plans` and `demand_plans` from `data` folder\n",
    "* `starting_inventory`: Inventory on the `first_date`"
   ]
  },
  {
   "cell_type": "code",
   "execution_count": 6,
   "metadata": {},
   "outputs": [],
   "source": [
    "supply_plans = pd.read_csv(os.path.join(data_folder, supply_file))\n",
    "demand_plans = pd.read_csv(os.path.join(data_folder, demand_file))"
   ]
  },
  {
   "cell_type": "code",
   "execution_count": 7,
   "metadata": {},
   "outputs": [
    {
     "data": {
      "text/html": [
       "<div>\n",
       "<style scoped>\n",
       "    .dataframe tbody tr th:only-of-type {\n",
       "        vertical-align: middle;\n",
       "    }\n",
       "\n",
       "    .dataframe tbody tr th {\n",
       "        vertical-align: top;\n",
       "    }\n",
       "\n",
       "    .dataframe thead th {\n",
       "        text-align: right;\n",
       "    }\n",
       "</style>\n",
       "<table border=\"1\" class=\"dataframe\">\n",
       "  <thead>\n",
       "    <tr style=\"text-align: right;\">\n",
       "      <th></th>\n",
       "      <th>demandPlanId</th>\n",
       "      <th>startDate</th>\n",
       "      <th>quantity</th>\n",
       "    </tr>\n",
       "  </thead>\n",
       "  <tbody>\n",
       "    <tr>\n",
       "      <th>0</th>\n",
       "      <td>5dffd325-ef18-48d6-9f51-a112a8abb98f</td>\n",
       "      <td>2021-08-01T00:00:00.000Z</td>\n",
       "      <td>35.0</td>\n",
       "    </tr>\n",
       "    <tr>\n",
       "      <th>1</th>\n",
       "      <td>a2254a49-27eb-4ef2-947a-791570c1c4f4</td>\n",
       "      <td>2021-08-02T00:00:00.000Z</td>\n",
       "      <td>50.0</td>\n",
       "    </tr>\n",
       "    <tr>\n",
       "      <th>2</th>\n",
       "      <td>dbc2fcc5-be18-4827-b863-59f1496202c6</td>\n",
       "      <td>2021-08-03T00:00:00.000Z</td>\n",
       "      <td>35.0</td>\n",
       "    </tr>\n",
       "    <tr>\n",
       "      <th>3</th>\n",
       "      <td>4dd04bfa-fc8a-4d81-8be9-3aa176b1e87c</td>\n",
       "      <td>2021-08-04T00:00:00.000Z</td>\n",
       "      <td>50.0</td>\n",
       "    </tr>\n",
       "    <tr>\n",
       "      <th>4</th>\n",
       "      <td>00d39be7-5551-49ff-96c1-32a0ef9ea2b8</td>\n",
       "      <td>2021-08-05T00:00:00.000Z</td>\n",
       "      <td>35.0</td>\n",
       "    </tr>\n",
       "    <tr>\n",
       "      <th>5</th>\n",
       "      <td>de4f9ee7-a486-43da-98f0-9c3db2147008</td>\n",
       "      <td>2021-08-06T00:00:00.000Z</td>\n",
       "      <td>50.0</td>\n",
       "    </tr>\n",
       "    <tr>\n",
       "      <th>6</th>\n",
       "      <td>6219f53e-eda5-4a5e-acc9-69432863b916</td>\n",
       "      <td>2021-08-07T00:00:00.000Z</td>\n",
       "      <td>35.0</td>\n",
       "    </tr>\n",
       "    <tr>\n",
       "      <th>7</th>\n",
       "      <td>efa3928a-700b-47c6-81cf-a621afc0732a</td>\n",
       "      <td>2021-08-08T00:00:00.000Z</td>\n",
       "      <td>50.0</td>\n",
       "    </tr>\n",
       "    <tr>\n",
       "      <th>8</th>\n",
       "      <td>4801ca4a-d9d6-411c-a934-45bafe5a4688</td>\n",
       "      <td>2021-08-09T00:00:00.000Z</td>\n",
       "      <td>35.0</td>\n",
       "    </tr>\n",
       "    <tr>\n",
       "      <th>9</th>\n",
       "      <td>dc4e0c0b-6581-42d1-b2b5-409aa7dc12bb</td>\n",
       "      <td>2021-08-10T00:00:00.000Z</td>\n",
       "      <td>50.0</td>\n",
       "    </tr>\n",
       "    <tr>\n",
       "      <th>10</th>\n",
       "      <td>8b0fc411-a831-424d-8795-da395e902ea2</td>\n",
       "      <td>2021-08-11T00:00:00.000Z</td>\n",
       "      <td>35.0</td>\n",
       "    </tr>\n",
       "    <tr>\n",
       "      <th>11</th>\n",
       "      <td>4fb0deab-4cba-4316-84b0-1fd4e3f48088</td>\n",
       "      <td>2021-08-11T00:00:00.000Z</td>\n",
       "      <td>50.0</td>\n",
       "    </tr>\n",
       "    <tr>\n",
       "      <th>12</th>\n",
       "      <td>4526c7d2-937a-47fa-94c6-d8006ecfb976</td>\n",
       "      <td>2021-08-12T00:00:00.000Z</td>\n",
       "      <td>35.0</td>\n",
       "    </tr>\n",
       "    <tr>\n",
       "      <th>13</th>\n",
       "      <td>62e790b7-92f7-446d-8f11-f9016fa3e931</td>\n",
       "      <td>2021-08-13T00:00:00.000Z</td>\n",
       "      <td>50.0</td>\n",
       "    </tr>\n",
       "    <tr>\n",
       "      <th>14</th>\n",
       "      <td>5465d210-d943-49f1-b8c5-96c890e2ae13</td>\n",
       "      <td>2021-08-14T00:00:00.000Z</td>\n",
       "      <td>35.0</td>\n",
       "    </tr>\n",
       "    <tr>\n",
       "      <th>15</th>\n",
       "      <td>8bf8c38f-873d-4390-89b6-097925599e1b</td>\n",
       "      <td>2021-08-15T00:00:00.000Z</td>\n",
       "      <td>50.0</td>\n",
       "    </tr>\n",
       "    <tr>\n",
       "      <th>16</th>\n",
       "      <td>2ba54977-90e1-4de4-9762-c8c4b2148927</td>\n",
       "      <td>2021-08-16T00:00:00.000Z</td>\n",
       "      <td>35.0</td>\n",
       "    </tr>\n",
       "    <tr>\n",
       "      <th>17</th>\n",
       "      <td>fe0cd97e-27e9-42a5-b153-7b055723fd1f</td>\n",
       "      <td>2021-08-17T00:00:00.000Z</td>\n",
       "      <td>50.0</td>\n",
       "    </tr>\n",
       "    <tr>\n",
       "      <th>18</th>\n",
       "      <td>81124f37-f082-4a43-9623-7a15198e095f</td>\n",
       "      <td>2021-08-18T00:00:00.000Z</td>\n",
       "      <td>35.0</td>\n",
       "    </tr>\n",
       "    <tr>\n",
       "      <th>19</th>\n",
       "      <td>e391dd5e-0365-460c-bb6a-d4d66865a9dc</td>\n",
       "      <td>2021-08-19T00:00:00.000Z</td>\n",
       "      <td>50.0</td>\n",
       "    </tr>\n",
       "    <tr>\n",
       "      <th>20</th>\n",
       "      <td>ecbbb8b7-1f66-466d-b7b8-d7aadc1039d5</td>\n",
       "      <td>2021-08-20T00:00:00.000Z</td>\n",
       "      <td>35.0</td>\n",
       "    </tr>\n",
       "    <tr>\n",
       "      <th>21</th>\n",
       "      <td>909eaf93-4c62-4d83-98cd-f1d60405b45d</td>\n",
       "      <td>2021-08-21T00:00:00.000Z</td>\n",
       "      <td>50.0</td>\n",
       "    </tr>\n",
       "    <tr>\n",
       "      <th>22</th>\n",
       "      <td>0785f92b-fde7-4164-9d1b-413d245fbe28</td>\n",
       "      <td>2021-08-22T00:00:00.000Z</td>\n",
       "      <td>35.0</td>\n",
       "    </tr>\n",
       "    <tr>\n",
       "      <th>23</th>\n",
       "      <td>ed94d670-5b0e-4744-87b9-c64789c15075</td>\n",
       "      <td>2021-08-23T00:00:00.000Z</td>\n",
       "      <td>50.0</td>\n",
       "    </tr>\n",
       "    <tr>\n",
       "      <th>24</th>\n",
       "      <td>5f79e437-f0a1-481e-9da3-ca76d4510745</td>\n",
       "      <td>2021-08-24T00:00:00.000Z</td>\n",
       "      <td>35.0</td>\n",
       "    </tr>\n",
       "    <tr>\n",
       "      <th>25</th>\n",
       "      <td>f082bde4-a1da-453f-8e32-3b70af748395</td>\n",
       "      <td>2021-08-25T00:00:00.000Z</td>\n",
       "      <td>50.0</td>\n",
       "    </tr>\n",
       "    <tr>\n",
       "      <th>26</th>\n",
       "      <td>24e2d8ae-228c-4ae5-8fd3-14d64397e081</td>\n",
       "      <td>2021-08-26T00:00:00.000Z</td>\n",
       "      <td>35.0</td>\n",
       "    </tr>\n",
       "    <tr>\n",
       "      <th>27</th>\n",
       "      <td>da672eca-9d46-4b5d-8594-a43d486a2d65</td>\n",
       "      <td>2021-08-27T00:00:00.000Z</td>\n",
       "      <td>35.0</td>\n",
       "    </tr>\n",
       "    <tr>\n",
       "      <th>28</th>\n",
       "      <td>3a0d5ff0-8836-4f43-827a-797348e74c50</td>\n",
       "      <td>2021-08-28T00:00:00.000Z</td>\n",
       "      <td>35.0</td>\n",
       "    </tr>\n",
       "    <tr>\n",
       "      <th>29</th>\n",
       "      <td>985e5ccb-f226-45c5-ba29-a3bfa6b88ebd</td>\n",
       "      <td>2021-08-29T00:00:00.000Z</td>\n",
       "      <td>35.0</td>\n",
       "    </tr>\n",
       "    <tr>\n",
       "      <th>30</th>\n",
       "      <td>2cf4983f-e7ea-44b7-9def-4e3a465d7483</td>\n",
       "      <td>2021-08-30T00:00:00.000Z</td>\n",
       "      <td>35.0</td>\n",
       "    </tr>\n",
       "  </tbody>\n",
       "</table>\n",
       "</div>"
      ],
      "text/plain": [
       "                            demandPlanId                 startDate  quantity\n",
       "0   5dffd325-ef18-48d6-9f51-a112a8abb98f  2021-08-01T00:00:00.000Z      35.0\n",
       "1   a2254a49-27eb-4ef2-947a-791570c1c4f4  2021-08-02T00:00:00.000Z      50.0\n",
       "2   dbc2fcc5-be18-4827-b863-59f1496202c6  2021-08-03T00:00:00.000Z      35.0\n",
       "3   4dd04bfa-fc8a-4d81-8be9-3aa176b1e87c  2021-08-04T00:00:00.000Z      50.0\n",
       "4   00d39be7-5551-49ff-96c1-32a0ef9ea2b8  2021-08-05T00:00:00.000Z      35.0\n",
       "5   de4f9ee7-a486-43da-98f0-9c3db2147008  2021-08-06T00:00:00.000Z      50.0\n",
       "6   6219f53e-eda5-4a5e-acc9-69432863b916  2021-08-07T00:00:00.000Z      35.0\n",
       "7   efa3928a-700b-47c6-81cf-a621afc0732a  2021-08-08T00:00:00.000Z      50.0\n",
       "8   4801ca4a-d9d6-411c-a934-45bafe5a4688  2021-08-09T00:00:00.000Z      35.0\n",
       "9   dc4e0c0b-6581-42d1-b2b5-409aa7dc12bb  2021-08-10T00:00:00.000Z      50.0\n",
       "10  8b0fc411-a831-424d-8795-da395e902ea2  2021-08-11T00:00:00.000Z      35.0\n",
       "11  4fb0deab-4cba-4316-84b0-1fd4e3f48088  2021-08-11T00:00:00.000Z      50.0\n",
       "12  4526c7d2-937a-47fa-94c6-d8006ecfb976  2021-08-12T00:00:00.000Z      35.0\n",
       "13  62e790b7-92f7-446d-8f11-f9016fa3e931  2021-08-13T00:00:00.000Z      50.0\n",
       "14  5465d210-d943-49f1-b8c5-96c890e2ae13  2021-08-14T00:00:00.000Z      35.0\n",
       "15  8bf8c38f-873d-4390-89b6-097925599e1b  2021-08-15T00:00:00.000Z      50.0\n",
       "16  2ba54977-90e1-4de4-9762-c8c4b2148927  2021-08-16T00:00:00.000Z      35.0\n",
       "17  fe0cd97e-27e9-42a5-b153-7b055723fd1f  2021-08-17T00:00:00.000Z      50.0\n",
       "18  81124f37-f082-4a43-9623-7a15198e095f  2021-08-18T00:00:00.000Z      35.0\n",
       "19  e391dd5e-0365-460c-bb6a-d4d66865a9dc  2021-08-19T00:00:00.000Z      50.0\n",
       "20  ecbbb8b7-1f66-466d-b7b8-d7aadc1039d5  2021-08-20T00:00:00.000Z      35.0\n",
       "21  909eaf93-4c62-4d83-98cd-f1d60405b45d  2021-08-21T00:00:00.000Z      50.0\n",
       "22  0785f92b-fde7-4164-9d1b-413d245fbe28  2021-08-22T00:00:00.000Z      35.0\n",
       "23  ed94d670-5b0e-4744-87b9-c64789c15075  2021-08-23T00:00:00.000Z      50.0\n",
       "24  5f79e437-f0a1-481e-9da3-ca76d4510745  2021-08-24T00:00:00.000Z      35.0\n",
       "25  f082bde4-a1da-453f-8e32-3b70af748395  2021-08-25T00:00:00.000Z      50.0\n",
       "26  24e2d8ae-228c-4ae5-8fd3-14d64397e081  2021-08-26T00:00:00.000Z      35.0\n",
       "27  da672eca-9d46-4b5d-8594-a43d486a2d65  2021-08-27T00:00:00.000Z      35.0\n",
       "28  3a0d5ff0-8836-4f43-827a-797348e74c50  2021-08-28T00:00:00.000Z      35.0\n",
       "29  985e5ccb-f226-45c5-ba29-a3bfa6b88ebd  2021-08-29T00:00:00.000Z      35.0\n",
       "30  2cf4983f-e7ea-44b7-9def-4e3a465d7483  2021-08-30T00:00:00.000Z      35.0"
      ]
     },
     "execution_count": 7,
     "metadata": {},
     "output_type": "execute_result"
    }
   ],
   "source": [
    "demand_plans"
   ]
  },
  {
   "cell_type": "code",
   "execution_count": 8,
   "metadata": {},
   "outputs": [
    {
     "data": {
      "text/html": [
       "<div>\n",
       "<style scoped>\n",
       "    .dataframe tbody tr th:only-of-type {\n",
       "        vertical-align: middle;\n",
       "    }\n",
       "\n",
       "    .dataframe tbody tr th {\n",
       "        vertical-align: top;\n",
       "    }\n",
       "\n",
       "    .dataframe thead th {\n",
       "        text-align: right;\n",
       "    }\n",
       "</style>\n",
       "<table border=\"1\" class=\"dataframe\">\n",
       "  <thead>\n",
       "    <tr style=\"text-align: right;\">\n",
       "      <th></th>\n",
       "      <th>supplyPlanId</th>\n",
       "      <th>startDate</th>\n",
       "      <th>quantity</th>\n",
       "    </tr>\n",
       "  </thead>\n",
       "  <tbody>\n",
       "    <tr>\n",
       "      <th>0</th>\n",
       "      <td>6190b1df-0444-491f-b2e2-7fd50b27397c</td>\n",
       "      <td>2021-08-07T00:00:00.000Z</td>\n",
       "      <td>150.0</td>\n",
       "    </tr>\n",
       "    <tr>\n",
       "      <th>1</th>\n",
       "      <td>e4cf0d00-948d-4e78-b204-8e3700c8a61d</td>\n",
       "      <td>2021-08-17T00:00:00.000Z</td>\n",
       "      <td>350.0</td>\n",
       "    </tr>\n",
       "    <tr>\n",
       "      <th>2</th>\n",
       "      <td>f0cd9eee-0749-482a-a269-aa089f84e461</td>\n",
       "      <td>2021-08-27T00:00:00.000Z</td>\n",
       "      <td>350.0</td>\n",
       "    </tr>\n",
       "  </tbody>\n",
       "</table>\n",
       "</div>"
      ],
      "text/plain": [
       "                           supplyPlanId                 startDate  quantity\n",
       "0  6190b1df-0444-491f-b2e2-7fd50b27397c  2021-08-07T00:00:00.000Z     150.0\n",
       "1  e4cf0d00-948d-4e78-b204-8e3700c8a61d  2021-08-17T00:00:00.000Z     350.0\n",
       "2  f0cd9eee-0749-482a-a269-aa089f84e461  2021-08-27T00:00:00.000Z     350.0"
      ]
     },
     "execution_count": 8,
     "metadata": {},
     "output_type": "execute_result"
    }
   ],
   "source": [
    "supply_plans"
   ]
  },
  {
   "cell_type": "code",
   "execution_count": 9,
   "metadata": {},
   "outputs": [],
   "source": [
    "horizon_days = np.arange(1, horizon+1, 1)"
   ]
  },
  {
   "cell_type": "code",
   "execution_count": 10,
   "metadata": {},
   "outputs": [
    {
     "data": {
      "text/plain": [
       "array([80, 80, 80, 80, 80, 80, 80, 80, 80, 80, 80, 80, 80, 80, 80, 80, 80,\n",
       "       80, 80, 80, 80, 80, 80, 80, 80, 80, 80, 80, 80, 80, 80, 80])"
      ]
     },
     "execution_count": 10,
     "metadata": {},
     "output_type": "execute_result"
    }
   ],
   "source": [
    "# Define Inventory horizon and add starting inventory\n",
    "inventory_horizon = np.zeros(horizon, dtype=int)\n",
    "inventory_horizon = inventory_horizon + starting_inventory\n",
    "inventory_horizon"
   ]
  },
  {
   "cell_type": "code",
   "execution_count": 11,
   "metadata": {},
   "outputs": [
    {
     "data": {
      "text/plain": [
       "array([ 80,  80,  80,  80,  80,  80,  80, 230, 230, 230, 230, 230, 230,\n",
       "       230, 230, 230, 230, 580, 580, 580, 580, 580, 580, 580, 580, 580,\n",
       "       580, 930, 930, 930, 930, 930])"
      ]
     },
     "execution_count": 11,
     "metadata": {},
     "output_type": "execute_result"
    }
   ],
   "source": [
    "# Add Supply plans\n",
    "supply = np.zeros(horizon, dtype=int)\n",
    "for i in range(len(supply_plans)):\n",
    "    supply_date = datetime.datetime.fromisoformat(supply_plans.loc[i, 'startDate'][:-1]).date()\n",
    "    qty = supply_plans.loc[i, 'quantity']\n",
    "    diff_days = (supply_date - first_date).days\n",
    "    inventory_horizon[diff_days:] = inventory_horizon[diff_days:] + qty\n",
    "    supply[diff_days] = qty\n",
    "inventory_horizon"
   ]
  },
  {
   "cell_type": "code",
   "execution_count": 12,
   "metadata": {},
   "outputs": [
    {
     "data": {
      "text/plain": [
       "Text(0, 0.5, 'Supply')"
      ]
     },
     "execution_count": 12,
     "metadata": {},
     "output_type": "execute_result"
    },
    {
     "data": {
      "image/png": "[encoded data removed]",
      "text/plain": [
       "<Figure size 432x288 with 1 Axes>"
      ]
     },
     "metadata": {
      "needs_background": "light"
     },
     "output_type": "display_data"
    }
   ],
   "source": [
    "fig,ax=plt.subplots()\n",
    "ax.bar(horizon_days, supply, color=\"green\")\n",
    "ax.set_title(\"Supply Plans of {}\".format(partNumber))\n",
    "ax.set_xlabel(\"Days\")\n",
    "ax.set_ylabel(\"Supply\", color=\"green\")"
   ]
  },
  {
   "cell_type": "code",
   "execution_count": 13,
   "metadata": {},
   "outputs": [],
   "source": [
    "# Modify the filename as required to save in the figs folder\n",
    "filename = \"-\".join([\"supply-plans\", partNumber, locationIdentifier])+\".jpg\""
   ]
  },
  {
   "cell_type": "code",
   "execution_count": 14,
   "metadata": {},
   "outputs": [],
   "source": [
    "fig.savefig(os.path.join(figs_folder, filename),\n",
    "            format='jpeg',\n",
    "            dpi=100,\n",
    "            bbox_inches='tight')"
   ]
  },
  {
   "cell_type": "code",
   "execution_count": 15,
   "metadata": {},
   "outputs": [
    {
     "data": {
      "text/plain": [
       "array([  80,   45,   -5,  -40,  -90, -125, -175,  -60, -110, -145, -195,\n",
       "       -280, -315, -365, -400, -450, -485, -185, -220, -270, -305, -355,\n",
       "       -390, -440, -475, -525, -560, -245, -280, -315, -350, -350])"
      ]
     },
     "execution_count": 15,
     "metadata": {},
     "output_type": "execute_result"
    }
   ],
   "source": [
    "# Add Demand plans\n",
    "demand = np.zeros(horizon, dtype=int)\n",
    "for i in range(len(demand_plans)):\n",
    "    demand_date = datetime.datetime.fromisoformat(demand_plans.loc[i, 'startDate'][:-1]).date()\n",
    "    qty = demand_plans.loc[i, 'quantity']\n",
    "    diff_days = (demand_date - first_date).days\n",
    "    inventory_horizon[diff_days:] = inventory_horizon[diff_days:] - qty\n",
    "    demand[diff_days] = qty\n",
    "inventory_horizon"
   ]
  },
  {
   "cell_type": "code",
   "execution_count": 16,
   "metadata": {},
   "outputs": [
    {
     "data": {
      "text/plain": [
       "Text(0, 0.5, 'Demand')"
      ]
     },
     "execution_count": 16,
     "metadata": {},
     "output_type": "execute_result"
    },
    {
     "data": {
      "image/png": "[encoded data removed]",
      "text/plain": [
       "<Figure size 432x288 with 1 Axes>"
      ]
     },
     "metadata": {
      "needs_background": "light"
     },
     "output_type": "display_data"
    }
   ],
   "source": [
    "fig,ax=plt.subplots()\n",
    "ax.bar(horizon_days, demand, color=\"purple\")\n",
    "ax.set_title(\"Demand Plans of {}\".format(partNumber))\n",
    "ax.set_xlabel(\"Days\")\n",
    "ax.set_ylabel(\"Demand\", color=\"purple\")"
   ]
  },
  {
   "cell_type": "code",
   "execution_count": 17,
   "metadata": {},
   "outputs": [],
   "source": [
    "filename = \"-\".join([\"demand-plans\", partNumber, locationIdentifier])+\".jpg\""
   ]
  },
  {
   "cell_type": "code",
   "execution_count": 18,
   "metadata": {},
   "outputs": [],
   "source": [
    "fig.savefig(os.path.join(figs_folder, filename),\n",
    "            format='jpeg',\n",
    "            dpi=100,\n",
    "            bbox_inches='tight')"
   ]
  },
  {
   "cell_type": "code",
   "execution_count": 19,
   "metadata": {},
   "outputs": [],
   "source": [
    "# Calculate weights\n",
    "weights = np.exp(np.arange(decay_weight, 0, -(decay_weight/horizon)))/np.exp(decay_weight)"
   ]
  },
  {
   "cell_type": "code",
   "execution_count": 20,
   "metadata": {},
   "outputs": [],
   "source": [
    "# Calculate penalty\n",
    "inventory_below_threshold = inventory_horizon - inv_positive_threshold\n",
    "penalties = np.zeros(horizon, dtype=int)\n",
    "neg_inv_mask = inventory_below_threshold < 0\n",
    "penalties[neg_inv_mask] = inventory_below_threshold[neg_inv_mask] "
   ]
  },
  {
   "cell_type": "code",
   "execution_count": 21,
   "metadata": {},
   "outputs": [
    {
     "data": {
      "text/plain": [
       "array([ -20,  -55, -105, -140, -190, -225, -275, -160, -210, -245, -295,\n",
       "       -300, -300, -300, -300, -300, -300, -285, -300, -300, -300, -300,\n",
       "       -300, -300, -300, -300, -300, -300, -300, -300, -300, -300])"
      ]
     },
     "execution_count": 21,
     "metadata": {},
     "output_type": "execute_result"
    }
   ],
   "source": [
    "neg_threshold_mask = penalties < inv_negative_threshold\n",
    "penalties[neg_threshold_mask] = inv_negative_threshold\n",
    "penalties"
   ]
  },
  {
   "cell_type": "code",
   "execution_count": 22,
   "metadata": {},
   "outputs": [
    {
     "data": {
      "text/plain": [
       "Text(0, 0.5, 'Inventory')"
      ]
     },
     "execution_count": 22,
     "metadata": {},
     "output_type": "execute_result"
    },
    {
     "data": {
      "image/png": "[encoded data removed]",
      "text/plain": [
       "<Figure size 432x288 with 1 Axes>"
      ]
     },
     "metadata": {
      "needs_background": "light"
     },
     "output_type": "display_data"
    }
   ],
   "source": [
    "fig,ax=plt.subplots()\n",
    "ax.plot(horizon_days, inventory_horizon)\n",
    "ax.set_title(\"Inventory of {}\".format(partNumber))\n",
    "ax.set_xlabel(\"Days\")\n",
    "ax.set_ylabel(\"Inventory\")"
   ]
  },
  {
   "cell_type": "code",
   "execution_count": 23,
   "metadata": {},
   "outputs": [],
   "source": [
    "filename = \"-\".join([\"new-inventory\", partNumber, locationIdentifier])+\".jpg\""
   ]
  },
  {
   "cell_type": "code",
   "execution_count": 24,
   "metadata": {},
   "outputs": [],
   "source": [
    "fig.savefig(os.path.join(figs_folder, filename),\n",
    "            format='jpeg',\n",
    "            dpi=100,\n",
    "            bbox_inches='tight')"
   ]
  },
  {
   "cell_type": "code",
   "execution_count": 25,
   "metadata": {},
   "outputs": [
    {
     "data": {
      "text/plain": [
       "Text(0, 0.5, 'Weight')"
      ]
     },
     "execution_count": 25,
     "metadata": {},
     "output_type": "execute_result"
    },
    {
     "data": {
      "image/png": "[encoded data removed]",
      "text/plain": [
       "<Figure size 432x288 with 2 Axes>"
      ]
     },
     "metadata": {
      "needs_background": "light"
     },
     "output_type": "display_data"
    }
   ],
   "source": [
    "fig,ax=plt.subplots()\n",
    "ax.plot(horizon_days, -penalties, marker=\"o\", color=\"red\")\n",
    "ax.set_xlabel(\"Days\")\n",
    "ax.set_ylabel(\"Penalty\", color=\"red\")\n",
    "ax2=ax.twinx()\n",
    "ax2.plot(horizon_days, weights, color=\"orange\")\n",
    "ax2.set_ylabel(\"Weight\", color=\"orange\")"
   ]
  },
  {
   "cell_type": "code",
   "execution_count": 26,
   "metadata": {},
   "outputs": [],
   "source": [
    "filename = \"-\".join([\"new-penalty\", partNumber, locationIdentifier])+\".jpg\""
   ]
  },
  {
   "cell_type": "code",
   "execution_count": 27,
   "metadata": {},
   "outputs": [],
   "source": [
    "fig.savefig(os.path.join(figs_folder, filename),\n",
    "            format='jpeg',\n",
    "            dpi=100,\n",
    "            bbox_inches='tight')"
   ]
  },
  {
   "cell_type": "code",
   "execution_count": 28,
   "metadata": {},
   "outputs": [
    {
     "data": {
      "text/plain": [
       "2119.345110309453"
      ]
     },
     "execution_count": 28,
     "metadata": {},
     "output_type": "execute_result"
    }
   ],
   "source": [
    "total_penalty = np.sum(weights*-penalties)\n",
    "total_penalty"
   ]
  },
  {
   "cell_type": "markdown",
   "metadata": {},
   "source": [
    "### Normalize\n",
    "\n",
    "* Priority score is normalized using the term `max_penalty` to be in range 0 - 100\n",
    "    * Normalized is useful for comparing different work items / inventories"
   ]
  },
  {
   "cell_type": "code",
   "execution_count": 29,
   "metadata": {},
   "outputs": [
    {
     "data": {
      "text/plain": [
       "3185.440056364701"
      ]
     },
     "execution_count": 29,
     "metadata": {},
     "output_type": "execute_result"
    }
   ],
   "source": [
    "max_penalty = np.sum(weights*-inv_negative_threshold)\n",
    "max_penalty"
   ]
  },
  {
   "cell_type": "code",
   "execution_count": 30,
   "metadata": {},
   "outputs": [
    {
     "data": {
      "text/plain": [
       "67.0"
      ]
     },
     "execution_count": 30,
     "metadata": {},
     "output_type": "execute_result"
    }
   ],
   "source": [
    "priority_score = np.rint((total_penalty/max_penalty)*100)\n",
    "priority_score"
   ]
  },
  {
   "cell_type": "markdown",
   "metadata": {},
   "source": [
    "### Testing decay weights"
   ]
  },
  {
   "cell_type": "code",
   "execution_count": 31,
   "metadata": {},
   "outputs": [],
   "source": [
    "horizon = 31"
   ]
  },
  {
   "cell_type": "code",
   "execution_count": 32,
   "metadata": {},
   "outputs": [],
   "source": [
    "horizon_days = np.arange(1, horizon+1, 1)\n",
    "decay1 = np.exp(np.arange(1, 0, -(1.0/horizon)))/np.exp(1)\n",
    "decay2 = np.exp(np.arange(2, 0, -(2.0/horizon)))/np.exp(2)\n",
    "decay3 = np.exp(np.arange(3, 0, -(3.0/horizon)))/np.exp(3)\n",
    "decay4 = np.exp(np.arange(4, 0, -(4.0/horizon)))/np.exp(4)"
   ]
  },
  {
   "cell_type": "code",
   "execution_count": 33,
   "metadata": {},
   "outputs": [
    {
     "data": {
      "text/plain": [
       "Text(0.5, 1.0, 'Weights Decay')"
      ]
     },
     "execution_count": 33,
     "metadata": {},
     "output_type": "execute_result"
    },
    {
     "data": {
      "image/png": "[encoded data removed]",
      "text/plain": [
       "<Figure size 432x288 with 1 Axes>"
      ]
     },
     "metadata": {
      "needs_background": "light"
     },
     "output_type": "display_data"
    }
   ],
   "source": [
    "fig,ax=plt.subplots()\n",
    "ax.plot(horizon_days, decay1, horizon_days, decay2, horizon_days, decay3, horizon_days, decay4)\n",
    "ax.set_xlabel(\"Days\")\n",
    "ax.set_ylabel(\"Weight\")\n",
    "ax.set_title(\"Weights Decay\")"
   ]
  },
  {
   "cell_type": "code",
   "execution_count": null,
   "metadata": {},
   "outputs": [],
   "source": [
    "fig.savefig(os.path.join(figs_folder, \"weights-decay.jpg\"),\n",
    "            format='jpeg',\n",
    "            dpi=100,\n",
    "            bbox_inches='tight')"
   ]
  },
  {
   "cell_type": "code",
   "execution_count": null,
   "metadata": {},
   "outputs": [],
   "source": []
  }
 ],
 "metadata": {
  "kernelspec": {
   "display_name": "Python 3",
   "language": "python",
   "name": "python3"
  },
  "language_info": {
   "codemirror_mode": {
    "name": "ipython",
    "version": 3
   },
   "file_extension": ".py",
   "mimetype": "text/x-python",
   "name": "python",
   "nbconvert_exporter": "python",
   "pygments_lexer": "ipython3",
   "version": "3.8.3"
  }
 },
 "nbformat": 4,
 "nbformat_minor": 4
}
